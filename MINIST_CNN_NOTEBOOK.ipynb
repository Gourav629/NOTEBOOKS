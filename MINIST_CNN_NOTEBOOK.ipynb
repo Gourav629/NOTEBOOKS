{
 "cells": [
  {
   "cell_type": "markdown",
   "id": "142106e5",
   "metadata": {},
   "source": [
    "# **Import Keras and Packages**\n",
    "\n",
    "Let's start by importing the keras libraries and the packages that we would need to build a neural network.\n"
   ]
  },
  {
   "cell_type": "code",
   "execution_count": 1,
   "id": "3ce28cca",
   "metadata": {},
   "outputs": [],
   "source": [
    "import keras\n",
    "from keras.models import Sequential\n",
    "from keras.layers import Dense\n",
    "from keras.utils import to_categorical"
   ]
  },
  {
   "cell_type": "markdown",
   "id": "1981bc74",
   "metadata": {},
   "source": [
    "When working with convolutional neural networks in particular, we will need additional packages."
   ]
  },
  {
   "cell_type": "code",
   "execution_count": 2,
   "id": "3e80eec5",
   "metadata": {},
   "outputs": [],
   "source": [
    "from keras.layers.convolutional import Conv2D # to add convolutional layers\n",
    "from keras.layers.convolutional import MaxPooling2D # to add pooling layers\n",
    "from keras.layers import Flatten # to flatten data for fully connected layers"
   ]
  },
  {
   "cell_type": "markdown",
   "id": "13f21ecd",
   "metadata": {},
   "source": [
    "# **Convolutional Layer with One set of convolutional and pooling layers**"
   ]
  },
  {
   "cell_type": "code",
   "execution_count": 3,
   "id": "35f6ab83",
   "metadata": {},
   "outputs": [],
   "source": [
    "# import data\n",
    "from keras.datasets import mnist\n",
    "\n",
    "# load data\n",
    "(X_train, y_train), (X_test, y_test) = mnist.load_data()\n",
    "\n",
    "# reshape to be [samples][pixels][width][height]\n",
    "X_train = X_train.reshape(X_train.shape[0], 28, 28, 1).astype('float32')\n",
    "X_test = X_test.reshape(X_test.shape[0], 28, 28, 1).astype('float32')"
   ]
  },
  {
   "cell_type": "markdown",
   "id": "35b94e87",
   "metadata": {},
   "source": [
    "Let's normalize the pixel values to be between 0 and 1"
   ]
  },
  {
   "cell_type": "code",
   "execution_count": 4,
   "id": "07249090",
   "metadata": {},
   "outputs": [],
   "source": [
    "X_train = X_train / 255 # normalize training data\n",
    "X_test = X_test / 255 # normalize test data"
   ]
  },
  {
   "cell_type": "markdown",
   "id": "d922c720",
   "metadata": {},
   "source": [
    "Next, let's convert the target variable into binary categories"
   ]
  },
  {
   "cell_type": "code",
   "execution_count": 5,
   "id": "957b9764",
   "metadata": {},
   "outputs": [],
   "source": [
    "y_train = to_categorical(y_train)\n",
    "y_test = to_categorical(y_test)\n",
    "\n",
    "num_classes = y_test.shape[1] # number of categories"
   ]
  },
  {
   "cell_type": "markdown",
   "id": "52c9487b",
   "metadata": {},
   "source": [
    "Next, let's define a function that creates our model. Let's start with one set of convolutional and pooling layers."
   ]
  },
  {
   "cell_type": "code",
   "execution_count": 6,
   "id": "286bd669",
   "metadata": {},
   "outputs": [],
   "source": [
    "def convolutional_model():\n",
    "    \n",
    "    # create model\n",
    "    model = Sequential()\n",
    "    model.add(Conv2D(16, (5, 5), strides=(1, 1), activation='relu', input_shape=(28, 28, 1)))\n",
    "    model.add(MaxPooling2D(pool_size=(2, 2), strides=(2, 2)))\n",
    "    \n",
    "    model.add(Flatten())\n",
    "    model.add(Dense(100, activation='relu'))\n",
    "    model.add(Dense(num_classes, activation='softmax'))\n",
    "    \n",
    "    # compile model\n",
    "    model.compile(optimizer='adam', loss='categorical_crossentropy',  metrics=['accuracy'])\n",
    "    return model"
   ]
  },
  {
   "cell_type": "markdown",
   "id": "3c75963c",
   "metadata": {},
   "source": [
    "Finally, let's call the function to create the model, and then let's train it and evaluate it."
   ]
  },
  {
   "cell_type": "code",
   "execution_count": 7,
   "id": "3719a39d",
   "metadata": {},
   "outputs": [
    {
     "name": "stdout",
     "output_type": "stream",
     "text": [
      "Epoch 1/10\n",
      "300/300 - 19s - loss: 0.2933 - accuracy: 0.9202 - val_loss: 0.0888 - val_accuracy: 0.9745 - 19s/epoch - 63ms/step\n",
      "Epoch 2/10\n",
      "300/300 - 14s - loss: 0.0766 - accuracy: 0.9776 - val_loss: 0.0655 - val_accuracy: 0.9802 - 14s/epoch - 47ms/step\n",
      "Epoch 3/10\n",
      "300/300 - 14s - loss: 0.0534 - accuracy: 0.9840 - val_loss: 0.0468 - val_accuracy: 0.9846 - 14s/epoch - 47ms/step\n",
      "Epoch 4/10\n",
      "300/300 - 14s - loss: 0.0431 - accuracy: 0.9868 - val_loss: 0.0429 - val_accuracy: 0.9860 - 14s/epoch - 47ms/step\n",
      "Epoch 5/10\n",
      "300/300 - 14s - loss: 0.0333 - accuracy: 0.9897 - val_loss: 0.0394 - val_accuracy: 0.9868 - 14s/epoch - 47ms/step\n",
      "Epoch 6/10\n",
      "300/300 - 14s - loss: 0.0273 - accuracy: 0.9920 - val_loss: 0.0384 - val_accuracy: 0.9867 - 14s/epoch - 47ms/step\n",
      "Epoch 7/10\n",
      "300/300 - 14s - loss: 0.0245 - accuracy: 0.9921 - val_loss: 0.0395 - val_accuracy: 0.9880 - 14s/epoch - 47ms/step\n",
      "Epoch 8/10\n",
      "300/300 - 15s - loss: 0.0201 - accuracy: 0.9937 - val_loss: 0.0354 - val_accuracy: 0.9884 - 15s/epoch - 49ms/step\n",
      "Epoch 9/10\n",
      "300/300 - 14s - loss: 0.0162 - accuracy: 0.9953 - val_loss: 0.0394 - val_accuracy: 0.9872 - 14s/epoch - 47ms/step\n",
      "Epoch 10/10\n",
      "300/300 - 14s - loss: 0.0141 - accuracy: 0.9958 - val_loss: 0.0378 - val_accuracy: 0.9883 - 14s/epoch - 47ms/step\n",
      "Accuracy: 0.9883000254631042 \n",
      " Error: 1.1699974536895752\n"
     ]
    }
   ],
   "source": [
    "# build the model\n",
    "model = convolutional_model()\n",
    "\n",
    "# fit the model\n",
    "model.fit(X_train, y_train, validation_data=(X_test, y_test), epochs=10, batch_size=200, verbose=2)\n",
    "\n",
    "# evaluate the model\n",
    "scores = model.evaluate(X_test, y_test, verbose=0)\n",
    "print(\"Accuracy: {} \\n Error: {}\".format(scores[1], 100-scores[1]*100))"
   ]
  },
  {
   "cell_type": "markdown",
   "id": "ab770d44",
   "metadata": {},
   "source": [
    "# **Convolutional Layer with two sets of convolutional and pooling layers**\n",
    "\n",
    "Let's redefine our convolutional model so that it has two convolutional and pooling layers instead of just one layer of each.\n"
   ]
  },
  {
   "cell_type": "code",
   "execution_count": 8,
   "id": "7ec471b0",
   "metadata": {},
   "outputs": [],
   "source": [
    "def convolutional_model():\n",
    "    \n",
    "    # create model\n",
    "    model = Sequential()\n",
    "    model.add(Conv2D(16, (5, 5), activation='relu', input_shape=(28, 28, 1)))\n",
    "    model.add(MaxPooling2D(pool_size=(2, 2), strides=(2, 2)))\n",
    "    \n",
    "    model.add(Conv2D(8, (2, 2), activation='relu'))\n",
    "    model.add(MaxPooling2D(pool_size=(2, 2), strides=(2, 2)))\n",
    "    \n",
    "    model.add(Flatten())\n",
    "    model.add(Dense(100, activation='relu'))\n",
    "    model.add(Dense(num_classes, activation='softmax'))\n",
    "    \n",
    "    # Compile model\n",
    "    model.compile(optimizer='adam', loss='categorical_crossentropy',  metrics=['accuracy'])\n",
    "    return model"
   ]
  },
  {
   "cell_type": "markdown",
   "id": "e2981cc3",
   "metadata": {},
   "source": [
    "Now, let's call the function to create our new convolutional neural network, and then let's train it and evaluate it."
   ]
  },
  {
   "cell_type": "code",
   "execution_count": 9,
   "id": "094b8bf2",
   "metadata": {},
   "outputs": [
    {
     "name": "stdout",
     "output_type": "stream",
     "text": [
      "Epoch 1/10\n",
      "300/300 - 18s - loss: 0.4592 - accuracy: 0.8665 - val_loss: 0.1529 - val_accuracy: 0.9561 - 18s/epoch - 59ms/step\n",
      "Epoch 2/10\n",
      "300/300 - 16s - loss: 0.1328 - accuracy: 0.9603 - val_loss: 0.0938 - val_accuracy: 0.9715 - 16s/epoch - 52ms/step\n",
      "Epoch 3/10\n",
      "300/300 - 16s - loss: 0.0949 - accuracy: 0.9716 - val_loss: 0.0750 - val_accuracy: 0.9757 - 16s/epoch - 52ms/step\n",
      "Epoch 4/10\n",
      "300/300 - 16s - loss: 0.0728 - accuracy: 0.9786 - val_loss: 0.0639 - val_accuracy: 0.9797 - 16s/epoch - 53ms/step\n",
      "Epoch 5/10\n",
      "300/300 - 16s - loss: 0.0625 - accuracy: 0.9818 - val_loss: 0.0542 - val_accuracy: 0.9825 - 16s/epoch - 53ms/step\n",
      "Epoch 6/10\n",
      "300/300 - 16s - loss: 0.0539 - accuracy: 0.9838 - val_loss: 0.0491 - val_accuracy: 0.9848 - 16s/epoch - 53ms/step\n",
      "Epoch 7/10\n",
      "300/300 - 17s - loss: 0.0489 - accuracy: 0.9854 - val_loss: 0.0396 - val_accuracy: 0.9867 - 17s/epoch - 56ms/step\n",
      "Epoch 8/10\n",
      "300/300 - 16s - loss: 0.0441 - accuracy: 0.9869 - val_loss: 0.0401 - val_accuracy: 0.9875 - 16s/epoch - 53ms/step\n",
      "Epoch 9/10\n",
      "300/300 - 16s - loss: 0.0399 - accuracy: 0.9880 - val_loss: 0.0466 - val_accuracy: 0.9843 - 16s/epoch - 53ms/step\n",
      "Epoch 10/10\n",
      "300/300 - 16s - loss: 0.0367 - accuracy: 0.9884 - val_loss: 0.0411 - val_accuracy: 0.9867 - 16s/epoch - 53ms/step\n",
      "Accuracy: 0.9866999983787537 \n",
      " Error: 1.3300001621246338\n"
     ]
    }
   ],
   "source": [
    "# build the model\n",
    "model = convolutional_model()\n",
    "\n",
    "# fit the model\n",
    "model.fit(X_train, y_train, validation_data=(X_test, y_test), epochs=10, batch_size=200, verbose=2)\n",
    "\n",
    "# evaluate the model\n",
    "scores = model.evaluate(X_test, y_test, verbose=0)\n",
    "print(\"Accuracy: {} \\n Error: {}\".format(scores[1], 100-scores[1]*100))"
   ]
  },
  {
   "cell_type": "code",
   "execution_count": null,
   "id": "58f2e7d5",
   "metadata": {},
   "outputs": [],
   "source": []
  }
 ],
 "metadata": {
  "kernelspec": {
   "display_name": "Python 3 (ipykernel)",
   "language": "python",
   "name": "python3"
  },
  "language_info": {
   "codemirror_mode": {
    "name": "ipython",
    "version": 3
   },
   "file_extension": ".py",
   "mimetype": "text/x-python",
   "name": "python",
   "nbconvert_exporter": "python",
   "pygments_lexer": "ipython3",
   "version": "3.9.12"
  }
 },
 "nbformat": 4,
 "nbformat_minor": 5
}
